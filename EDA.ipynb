{
  "cells": [
    {
      "cell_type": "code",
      "execution_count": 2,
      "metadata": {
        "id": "7j0wjVkpgcA-"
      },
      "outputs": [],
      "source": [
        "import pandas as pd\n",
        "import seaborn as sns\n",
        "from scipy.stats import shapiro\n",
        "import numpy as np\n",
        "from tqdm import tqdm\n",
        "from sklearn.feature_extraction.text import CountVectorizer\n",
        "from sklearn.decomposition import PCA"
      ]
    },
    {
      "cell_type": "code",
      "execution_count": 3,
      "metadata": {
        "id": "fPtdxIbPgcA_"
      },
      "outputs": [],
      "source": [
        "df_tr = pd.read_excel(\"train.xlsx\").drop(columns=\"Unnamed: 0\")\n",
        "df_test = pd.read_excel(\"test.xlsx\").drop(columns=\"Unnamed: 0\")"
      ]
    },
    {
      "cell_type": "code",
      "execution_count": 4,
      "metadata": {
        "colab": {
          "base_uri": "https://localhost:8080/",
          "height": 671
        },
        "id": "26bBuZLLgcBA",
        "outputId": "ab28f329-d18a-4264-ba9b-8fc6ac914745"
      },
      "outputs": [
        {
          "data": {
            "text/html": [
              "<div>\n",
              "<style scoped>\n",
              "    .dataframe tbody tr th:only-of-type {\n",
              "        vertical-align: middle;\n",
              "    }\n",
              "\n",
              "    .dataframe tbody tr th {\n",
              "        vertical-align: top;\n",
              "    }\n",
              "\n",
              "    .dataframe thead th {\n",
              "        text-align: right;\n",
              "    }\n",
              "</style>\n",
              "<table border=\"1\" class=\"dataframe\">\n",
              "  <thead>\n",
              "    <tr style=\"text-align: right;\">\n",
              "      <th></th>\n",
              "      <th>предмет</th>\n",
              "      <th>ФИО</th>\n",
              "      <th>tutor_head_tags</th>\n",
              "      <th>tutor_rating</th>\n",
              "      <th>tutor_reviews</th>\n",
              "      <th>description</th>\n",
              "      <th>experience_desc</th>\n",
              "      <th>Education_1</th>\n",
              "      <th>Desc_Education_1</th>\n",
              "      <th>Education_2</th>\n",
              "      <th>...</th>\n",
              "      <th>status</th>\n",
              "      <th>experience</th>\n",
              "      <th>Desc_Education_5</th>\n",
              "      <th>Desc_Education_6</th>\n",
              "      <th>Education_5</th>\n",
              "      <th>Education_6</th>\n",
              "      <th>Ученая степень 2</th>\n",
              "      <th>Ученое звание 2</th>\n",
              "      <th>categories</th>\n",
              "      <th>mean_price</th>\n",
              "    </tr>\n",
              "  </thead>\n",
              "  <tbody>\n",
              "    <tr>\n",
              "      <th>0</th>\n",
              "      <td>matematika</td>\n",
              "      <td>Репетитор по математике  Емельянова Марина Вла...</td>\n",
              "      <td>['Школьная программа', 'Подготовка к ЕГЭ', 'По...</td>\n",
              "      <td>5.0</td>\n",
              "      <td>2</td>\n",
              "      <td>Репетитор не предоставил о себе дополн...</td>\n",
              "      <td>NaN</td>\n",
              "      <td>Томский государственный университет им. В.В. ...</td>\n",
              "      <td>Год окончания: 1990, Факультет: механико-мате...</td>\n",
              "      <td>NaN</td>\n",
              "      <td>...</td>\n",
              "      <td>Университетский преподаватель</td>\n",
              "      <td>31 год</td>\n",
              "      <td>NaN</td>\n",
              "      <td>NaN</td>\n",
              "      <td>NaN</td>\n",
              "      <td>NaN</td>\n",
              "      <td>NaN</td>\n",
              "      <td>NaN</td>\n",
              "      <td>['Школьники с 5 по 9 класс', 'Школьники с 10 п...</td>\n",
              "      <td>16.666667</td>\n",
              "    </tr>\n",
              "    <tr>\n",
              "      <th>1</th>\n",
              "      <td>matematika</td>\n",
              "      <td>Репетитор по математике  Назарова Анастасия Ан...</td>\n",
              "      <td>['Школьная программа', 'Подготовка к ЕГЭ', 'По...</td>\n",
              "      <td>4.0</td>\n",
              "      <td>7</td>\n",
              "      <td>Репетитор не предоставил о себе дополн...</td>\n",
              "      <td>NaN</td>\n",
              "      <td>Вологодский государственный педагогический ун...</td>\n",
              "      <td>Год окончания: 2017, Факультет: факультет при...</td>\n",
              "      <td>Череповецкий государственный университет</td>\n",
              "      <td>...</td>\n",
              "      <td>Школьный преподаватель</td>\n",
              "      <td>8 лет</td>\n",
              "      <td>NaN</td>\n",
              "      <td>NaN</td>\n",
              "      <td>NaN</td>\n",
              "      <td>NaN</td>\n",
              "      <td>NaN</td>\n",
              "      <td>NaN</td>\n",
              "      <td>['Школьники с 5 по 9 класс', 'Школьники с 10 п...</td>\n",
              "      <td>11.666667</td>\n",
              "    </tr>\n",
              "    <tr>\n",
              "      <th>2</th>\n",
              "      <td>informatika</td>\n",
              "      <td>Репетитор по информатике Мотроненко Инна Конст...</td>\n",
              "      <td>['Школьная программа', 'Подготовка к ЕГЭ', 'По...</td>\n",
              "      <td>0.0</td>\n",
              "      <td>0</td>\n",
              "      <td>Выезд за город: Балашиха-1, Балашиха-2...</td>\n",
              "      <td>Московская Школа (учитель ...</td>\n",
              "      <td>Московский городской педагогический университет</td>\n",
              "      <td>Год окончания: 2008, Факультет: Математически...</td>\n",
              "      <td>Московский городской педагогический университ...</td>\n",
              "      <td>...</td>\n",
              "      <td>Школьный преподаватель</td>\n",
              "      <td>11 лет</td>\n",
              "      <td>NaN</td>\n",
              "      <td>NaN</td>\n",
              "      <td>NaN</td>\n",
              "      <td>NaN</td>\n",
              "      <td>NaN</td>\n",
              "      <td>NaN</td>\n",
              "      <td>['Школьники с 5 по 9 класс', 'Школьники с 10 п...</td>\n",
              "      <td>23.333333</td>\n",
              "    </tr>\n",
              "    <tr>\n",
              "      <th>3</th>\n",
              "      <td>matematika</td>\n",
              "      <td>Репетитор по математике  Логинова Елизавета Ал...</td>\n",
              "      <td>['Школьная программа', 'Математический анализ'...</td>\n",
              "      <td>4.0</td>\n",
              "      <td>19</td>\n",
              "      <td>Здравствуйте! Меня зовут Елизавета, о...</td>\n",
              "      <td>NaN</td>\n",
              "      <td>Санкт-Петербургский государственный университет</td>\n",
              "      <td>Год окончания: 2021, Факультет: физический фа...</td>\n",
              "      <td>NaN</td>\n",
              "      <td>...</td>\n",
              "      <td>Частный преподаватель</td>\n",
              "      <td>5 лет</td>\n",
              "      <td>NaN</td>\n",
              "      <td>NaN</td>\n",
              "      <td>NaN</td>\n",
              "      <td>NaN</td>\n",
              "      <td>NaN</td>\n",
              "      <td>NaN</td>\n",
              "      <td>['Школьники с 1 по 4 класс', 'Школьники с 5 по...</td>\n",
              "      <td>0.116667</td>\n",
              "    </tr>\n",
              "    <tr>\n",
              "      <th>4</th>\n",
              "      <td>matematika</td>\n",
              "      <td>Репетитор по математике  Харланов Олег Викторо...</td>\n",
              "      <td>['Школьная программа', 'Подготовка к ЕГЭ', 'По...</td>\n",
              "      <td>0.0</td>\n",
              "      <td>0</td>\n",
              "      <td>Целеустремленный, ориентирован на резу...</td>\n",
              "      <td>преподавателем           ...</td>\n",
              "      <td>Приазовский государственный технический униве...</td>\n",
              "      <td>Год окончания: 2005, Факультет: Энергетически...</td>\n",
              "      <td>NaN</td>\n",
              "      <td>...</td>\n",
              "      <td>Частный преподаватель</td>\n",
              "      <td>19 лет</td>\n",
              "      <td>NaN</td>\n",
              "      <td>NaN</td>\n",
              "      <td>NaN</td>\n",
              "      <td>NaN</td>\n",
              "      <td>NaN</td>\n",
              "      <td>NaN</td>\n",
              "      <td>['Школьники с 5 по 9 класс', 'Школьники с 10 п...</td>\n",
              "      <td>16.666667</td>\n",
              "    </tr>\n",
              "  </tbody>\n",
              "</table>\n",
              "<p>5 rows × 27 columns</p>\n",
              "</div>"
            ],
            "text/plain": [
              "       предмет                                                ФИО  \\\n",
              "0   matematika  Репетитор по математике  Емельянова Марина Вла...   \n",
              "1   matematika  Репетитор по математике  Назарова Анастасия Ан...   \n",
              "2  informatika  Репетитор по информатике Мотроненко Инна Конст...   \n",
              "3   matematika  Репетитор по математике  Логинова Елизавета Ал...   \n",
              "4   matematika  Репетитор по математике  Харланов Олег Викторо...   \n",
              "\n",
              "                                     tutor_head_tags  tutor_rating  \\\n",
              "0  ['Школьная программа', 'Подготовка к ЕГЭ', 'По...           5.0   \n",
              "1  ['Школьная программа', 'Подготовка к ЕГЭ', 'По...           4.0   \n",
              "2  ['Школьная программа', 'Подготовка к ЕГЭ', 'По...           0.0   \n",
              "3  ['Школьная программа', 'Математический анализ'...           4.0   \n",
              "4  ['Школьная программа', 'Подготовка к ЕГЭ', 'По...           0.0   \n",
              "\n",
              "   tutor_reviews                                        description  \\\n",
              "0              2          Репетитор не предоставил о себе дополн...   \n",
              "1              7          Репетитор не предоставил о себе дополн...   \n",
              "2              0          Выезд за город: Балашиха-1, Балашиха-2...   \n",
              "3             19           Здравствуйте! Меня зовут Елизавета, о...   \n",
              "4              0          Целеустремленный, ориентирован на резу...   \n",
              "\n",
              "                                     experience_desc  \\\n",
              "0                                                NaN   \n",
              "1                                                NaN   \n",
              "2                      Московская Школа (учитель ...   \n",
              "3                                                NaN   \n",
              "4                       преподавателем           ...   \n",
              "\n",
              "                                         Education_1  \\\n",
              "0   Томский государственный университет им. В.В. ...   \n",
              "1   Вологодский государственный педагогический ун...   \n",
              "2   Московский городской педагогический университет    \n",
              "3   Санкт-Петербургский государственный университет    \n",
              "4   Приазовский государственный технический униве...   \n",
              "\n",
              "                                    Desc_Education_1  \\\n",
              "0   Год окончания: 1990, Факультет: механико-мате...   \n",
              "1   Год окончания: 2017, Факультет: факультет при...   \n",
              "2   Год окончания: 2008, Факультет: Математически...   \n",
              "3   Год окончания: 2021, Факультет: физический фа...   \n",
              "4   Год окончания: 2005, Факультет: Энергетически...   \n",
              "\n",
              "                                         Education_2  ...  \\\n",
              "0                                                NaN  ...   \n",
              "1          Череповецкий государственный университет   ...   \n",
              "2   Московский городской педагогический университ...  ...   \n",
              "3                                                NaN  ...   \n",
              "4                                                NaN  ...   \n",
              "\n",
              "                           status experience Desc_Education_5  \\\n",
              "0   Университетский преподаватель    31 год               NaN   \n",
              "1          Школьный преподаватель     8 лет               NaN   \n",
              "2          Школьный преподаватель    11 лет               NaN   \n",
              "3           Частный преподаватель     5 лет               NaN   \n",
              "4           Частный преподаватель    19 лет               NaN   \n",
              "\n",
              "  Desc_Education_6 Education_5 Education_6 Ученая степень 2 Ученое звание 2  \\\n",
              "0              NaN         NaN         NaN              NaN             NaN   \n",
              "1              NaN         NaN         NaN              NaN             NaN   \n",
              "2              NaN         NaN         NaN              NaN             NaN   \n",
              "3              NaN         NaN         NaN              NaN             NaN   \n",
              "4              NaN         NaN         NaN              NaN             NaN   \n",
              "\n",
              "                                          categories mean_price  \n",
              "0  ['Школьники с 5 по 9 класс', 'Школьники с 10 п...  16.666667  \n",
              "1  ['Школьники с 5 по 9 класс', 'Школьники с 10 п...  11.666667  \n",
              "2  ['Школьники с 5 по 9 класс', 'Школьники с 10 п...  23.333333  \n",
              "3  ['Школьники с 1 по 4 класс', 'Школьники с 5 по...   0.116667  \n",
              "4  ['Школьники с 5 по 9 класс', 'Школьники с 10 п...  16.666667  \n",
              "\n",
              "[5 rows x 27 columns]"
            ]
          },
          "execution_count": 4,
          "metadata": {},
          "output_type": "execute_result"
        }
      ],
      "source": [
        "# Выведем часть наших датафреймов для ознокамления\n",
        "df_tr.head()"
      ]
    },
    {
      "cell_type": "code",
      "execution_count": 5,
      "metadata": {
        "colab": {
          "base_uri": "https://localhost:8080/",
          "height": 671
        },
        "id": "Ln0M5_FCgcBB",
        "outputId": "fe02b34c-d14b-4b2d-85b8-db26d6a7e023"
      },
      "outputs": [
        {
          "data": {
            "text/html": [
              "<div>\n",
              "<style scoped>\n",
              "    .dataframe tbody tr th:only-of-type {\n",
              "        vertical-align: middle;\n",
              "    }\n",
              "\n",
              "    .dataframe tbody tr th {\n",
              "        vertical-align: top;\n",
              "    }\n",
              "\n",
              "    .dataframe thead th {\n",
              "        text-align: right;\n",
              "    }\n",
              "</style>\n",
              "<table border=\"1\" class=\"dataframe\">\n",
              "  <thead>\n",
              "    <tr style=\"text-align: right;\">\n",
              "      <th></th>\n",
              "      <th>предмет</th>\n",
              "      <th>ФИО</th>\n",
              "      <th>tutor_head_tags</th>\n",
              "      <th>tutor_rating</th>\n",
              "      <th>tutor_reviews</th>\n",
              "      <th>description</th>\n",
              "      <th>experience_desc</th>\n",
              "      <th>Education_1</th>\n",
              "      <th>Desc_Education_1</th>\n",
              "      <th>Education_2</th>\n",
              "      <th>...</th>\n",
              "      <th>Ученое звание 1</th>\n",
              "      <th>status</th>\n",
              "      <th>experience</th>\n",
              "      <th>Desc_Education_5</th>\n",
              "      <th>Desc_Education_6</th>\n",
              "      <th>Education_5</th>\n",
              "      <th>Education_6</th>\n",
              "      <th>Ученая степень 2</th>\n",
              "      <th>Ученое звание 2</th>\n",
              "      <th>categories</th>\n",
              "    </tr>\n",
              "  </thead>\n",
              "  <tbody>\n",
              "    <tr>\n",
              "      <th>0</th>\n",
              "      <td>matematika</td>\n",
              "      <td>Репетитор по математике  Тихонова Наталья Бори...</td>\n",
              "      <td>['Школьная программа', 'Подготовка к ЕГЭ', 'Ан...</td>\n",
              "      <td>4</td>\n",
              "      <td>13</td>\n",
              "      <td>Дистанционное убучение по Skype с прим...</td>\n",
              "      <td>NaN</td>\n",
              "      <td>Петрозаводский государственный университет</td>\n",
              "      <td>Год окончания: 1981, Факультет: физико-матема...</td>\n",
              "      <td>NaN</td>\n",
              "      <td>...</td>\n",
              "      <td>NaN</td>\n",
              "      <td>Частный преподаватель</td>\n",
              "      <td>26 лет</td>\n",
              "      <td>NaN</td>\n",
              "      <td>NaN</td>\n",
              "      <td>NaN</td>\n",
              "      <td>NaN</td>\n",
              "      <td>NaN</td>\n",
              "      <td>NaN</td>\n",
              "      <td>['Школьники с 5 по 9 класс', 'Школьники с 10 п...</td>\n",
              "    </tr>\n",
              "    <tr>\n",
              "      <th>1</th>\n",
              "      <td>matematika</td>\n",
              "      <td>Репетитор по математике  Худайбердина Милана Р...</td>\n",
              "      <td>['Школьная программа', 'Математический анализ'...</td>\n",
              "      <td>0</td>\n",
              "      <td>0</td>\n",
              "      <td>Буду рада помочь в освоении дисциплин ...</td>\n",
              "      <td>NaN</td>\n",
              "      <td>Национальный исследовательский университет \"В...</td>\n",
              "      <td>Год окончания: 2022, Факультет: Московский ин...</td>\n",
              "      <td>NaN</td>\n",
              "      <td>...</td>\n",
              "      <td>NaN</td>\n",
              "      <td>Студент</td>\n",
              "      <td>4 года</td>\n",
              "      <td>NaN</td>\n",
              "      <td>NaN</td>\n",
              "      <td>NaN</td>\n",
              "      <td>NaN</td>\n",
              "      <td>NaN</td>\n",
              "      <td>NaN</td>\n",
              "      <td>['Школьники с 5 по 9 класс', 'Школьники с 10 п...</td>\n",
              "    </tr>\n",
              "    <tr>\n",
              "      <th>2</th>\n",
              "      <td>matematika</td>\n",
              "      <td>Репетитор по математике  Епихина Елена Вячесла...</td>\n",
              "      <td>['Школьная программа', 'Подготовка к ЕГЭ', 'По...</td>\n",
              "      <td>0</td>\n",
              "      <td>0</td>\n",
              "      <td>Преподаватель высшей квалификационный ...</td>\n",
              "      <td>Репетитор не предоставил информаци...</td>\n",
              "      <td>Тамбовский ордена \"Знак Почёта\" государственн...</td>\n",
              "      <td>Год окончания: 1987, Факультет: Математика, С...</td>\n",
              "      <td>NaN</td>\n",
              "      <td>...</td>\n",
              "      <td>NaN</td>\n",
              "      <td>Университетский преподаватель, Школьный препо...</td>\n",
              "      <td>36 лет</td>\n",
              "      <td>NaN</td>\n",
              "      <td>NaN</td>\n",
              "      <td>NaN</td>\n",
              "      <td>NaN</td>\n",
              "      <td>NaN</td>\n",
              "      <td>NaN</td>\n",
              "      <td>['Школьники с 10 по 11 класс, студенты колледж...</td>\n",
              "    </tr>\n",
              "    <tr>\n",
              "      <th>3</th>\n",
              "      <td>matematika</td>\n",
              "      <td>Репетитор по математике  Касаткин Денис Евгень...</td>\n",
              "      <td>['Школьная программа', 'Подготовка к ОГЭ', 'Hi...</td>\n",
              "      <td>4</td>\n",
              "      <td>11</td>\n",
              "      <td>Объясняю ровно столько, сколько надо. ...</td>\n",
              "      <td>NaN</td>\n",
              "      <td>Тюменский государственный университет</td>\n",
              "      <td>Год окончания: 2022, Факультет: факультет меж...</td>\n",
              "      <td>NaN</td>\n",
              "      <td>...</td>\n",
              "      <td>NaN</td>\n",
              "      <td>Студент</td>\n",
              "      <td>3 года</td>\n",
              "      <td>NaN</td>\n",
              "      <td>NaN</td>\n",
              "      <td>NaN</td>\n",
              "      <td>NaN</td>\n",
              "      <td>NaN</td>\n",
              "      <td>NaN</td>\n",
              "      <td>['Школьники с 1 по 4 класс', 'Школьники с 5 по...</td>\n",
              "    </tr>\n",
              "    <tr>\n",
              "      <th>4</th>\n",
              "      <td>informatika</td>\n",
              "      <td>Репетитор по информатике Логвинов Артём Алекса...</td>\n",
              "      <td>['Подготовка к ЕГЭ']</td>\n",
              "      <td>0</td>\n",
              "      <td>0</td>\n",
              "      <td>Подготовлю к ЕГЭ, уроки через любую уд...</td>\n",
              "      <td>Репетитор не предоставил информаци...</td>\n",
              "      <td>РТУ МИРЭА</td>\n",
              "      <td>Год окончания: 2026, Факультет: Программная и...</td>\n",
              "      <td>NaN</td>\n",
              "      <td>...</td>\n",
              "      <td>NaN</td>\n",
              "      <td>Студент</td>\n",
              "      <td>1 год</td>\n",
              "      <td>NaN</td>\n",
              "      <td>NaN</td>\n",
              "      <td>NaN</td>\n",
              "      <td>NaN</td>\n",
              "      <td>NaN</td>\n",
              "      <td>NaN</td>\n",
              "      <td>['Школьники с 10 по 11 класс, студенты колледж...</td>\n",
              "    </tr>\n",
              "  </tbody>\n",
              "</table>\n",
              "<p>5 rows × 26 columns</p>\n",
              "</div>"
            ],
            "text/plain": [
              "       предмет                                                ФИО  \\\n",
              "0   matematika  Репетитор по математике  Тихонова Наталья Бори...   \n",
              "1   matematika  Репетитор по математике  Худайбердина Милана Р...   \n",
              "2   matematika  Репетитор по математике  Епихина Елена Вячесла...   \n",
              "3   matematika  Репетитор по математике  Касаткин Денис Евгень...   \n",
              "4  informatika  Репетитор по информатике Логвинов Артём Алекса...   \n",
              "\n",
              "                                     tutor_head_tags  tutor_rating  \\\n",
              "0  ['Школьная программа', 'Подготовка к ЕГЭ', 'Ан...             4   \n",
              "1  ['Школьная программа', 'Математический анализ'...             0   \n",
              "2  ['Школьная программа', 'Подготовка к ЕГЭ', 'По...             0   \n",
              "3  ['Школьная программа', 'Подготовка к ОГЭ', 'Hi...             4   \n",
              "4                               ['Подготовка к ЕГЭ']             0   \n",
              "\n",
              "   tutor_reviews                                        description  \\\n",
              "0             13          Дистанционное убучение по Skype с прим...   \n",
              "1              0          Буду рада помочь в освоении дисциплин ...   \n",
              "2              0          Преподаватель высшей квалификационный ...   \n",
              "3             11          Объясняю ровно столько, сколько надо. ...   \n",
              "4              0          Подготовлю к ЕГЭ, уроки через любую уд...   \n",
              "\n",
              "                                     experience_desc  \\\n",
              "0                                                NaN   \n",
              "1                                                NaN   \n",
              "2              Репетитор не предоставил информаци...   \n",
              "3                                                NaN   \n",
              "4              Репетитор не предоставил информаци...   \n",
              "\n",
              "                                         Education_1  \\\n",
              "0        Петрозаводский государственный университет    \n",
              "1   Национальный исследовательский университет \"В...   \n",
              "2   Тамбовский ордена \"Знак Почёта\" государственн...   \n",
              "3             Тюменский государственный университет    \n",
              "4                                         РТУ МИРЭА    \n",
              "\n",
              "                                    Desc_Education_1 Education_2  ...  \\\n",
              "0   Год окончания: 1981, Факультет: физико-матема...         NaN  ...   \n",
              "1   Год окончания: 2022, Факультет: Московский ин...         NaN  ...   \n",
              "2   Год окончания: 1987, Факультет: Математика, С...         NaN  ...   \n",
              "3   Год окончания: 2022, Факультет: факультет меж...         NaN  ...   \n",
              "4   Год окончания: 2026, Факультет: Программная и...         NaN  ...   \n",
              "\n",
              "  Ученое звание 1                                             status  \\\n",
              "0             NaN                              Частный преподаватель   \n",
              "1             NaN                                            Студент   \n",
              "2             NaN   Университетский преподаватель, Школьный препо...   \n",
              "3             NaN                                            Студент   \n",
              "4             NaN                                            Студент   \n",
              "\n",
              "  experience Desc_Education_5 Desc_Education_6 Education_5 Education_6  \\\n",
              "0    26 лет               NaN              NaN         NaN         NaN   \n",
              "1    4 года               NaN              NaN         NaN         NaN   \n",
              "2    36 лет               NaN              NaN         NaN         NaN   \n",
              "3    3 года               NaN              NaN         NaN         NaN   \n",
              "4     1 год               NaN              NaN         NaN         NaN   \n",
              "\n",
              "  Ученая степень 2 Ученое звание 2  \\\n",
              "0              NaN             NaN   \n",
              "1              NaN             NaN   \n",
              "2              NaN             NaN   \n",
              "3              NaN             NaN   \n",
              "4              NaN             NaN   \n",
              "\n",
              "                                          categories  \n",
              "0  ['Школьники с 5 по 9 класс', 'Школьники с 10 п...  \n",
              "1  ['Школьники с 5 по 9 класс', 'Школьники с 10 п...  \n",
              "2  ['Школьники с 10 по 11 класс, студенты колледж...  \n",
              "3  ['Школьники с 1 по 4 класс', 'Школьники с 5 по...  \n",
              "4  ['Школьники с 10 по 11 класс, студенты колледж...  \n",
              "\n",
              "[5 rows x 26 columns]"
            ]
          },
          "execution_count": 5,
          "metadata": {},
          "output_type": "execute_result"
        }
      ],
      "source": [
        "df_test.head()"
      ]
    },
    {
      "cell_type": "markdown",
      "metadata": {
        "id": "VzU5iNt2gcBC"
      },
      "source": [
        "# Обработаем пропуски, построим графики и причешим данные\n",
        "\n",
        "\n"
      ]
    },
    {
      "cell_type": "code",
      "execution_count": 6,
      "metadata": {
        "colab": {
          "base_uri": "https://localhost:8080/",
          "height": 452
        },
        "id": "yI8V9eqLgcBG",
        "outputId": "ae7b902d-45b6-468d-aacf-c2d23fceca2c"
      },
      "outputs": [
        {
          "data": {
            "image/png": "[encoded data removed]",
            "text/plain": [
              "<Figure size 640x480 with 1 Axes>"
            ]
          },
          "metadata": {},
          "output_type": "display_data"
        }
      ],
      "source": [
        "# Проанализируем гистаграму распределения и заполним медианными значениями колонку tutor_rating\n",
        "df_tr.hist(\"tutor_rating\")\n",
        "df_tr.tutor_rating = df_tr.tutor_rating.fillna(df_tr.tutor_rating.median())\n",
        "df_test.tutor_rating = df_test.tutor_rating.fillna(df_test.tutor_rating.median())"
      ]
    },
    {
      "cell_type": "code",
      "execution_count": 7,
      "metadata": {
        "colab": {
          "base_uri": "https://localhost:8080/",
          "height": 452
        },
        "id": "ZpFFYoXYgcBH",
        "outputId": "5abafe5a-ea41-4033-ca50-a4b177e81e69"
      },
      "outputs": [
        {
          "data": {
            "image/png": "[encoded data removed]",
            "text/plain": [
              "<Figure size 640x480 with 1 Axes>"
            ]
          },
          "metadata": {},
          "output_type": "display_data"
        }
      ],
      "source": [
        "# Проанализируем гистаграму распределения и заполним медианными значениями колонку tutor_reviews\n",
        "df_tr.hist(\"tutor_reviews\")\n",
        "df_tr.tutor_reviews = df_tr.tutor_reviews.fillna(df_tr.tutor_reviews.median())\n",
        "df_test.tutor_reviews = df_test.tutor_reviews.fillna(df_test.tutor_reviews.median())"
      ]
    },
    {
      "cell_type": "code",
      "execution_count": 8,
      "metadata": {
        "colab": {
          "base_uri": "https://localhost:8080/",
          "height": 452
        },
        "id": "01WcREw5gcBJ",
        "outputId": "3835a38b-ff37-4df4-cef1-df84bab17da6"
      },
      "outputs": [
        {
          "data": {
            "image/png": "[encoded data removed]",
            "text/plain": [
              "<Figure size 640x480 with 1 Axes>"
            ]
          },
          "metadata": {},
          "output_type": "display_data"
        }
      ],
      "source": [
        "df_tr.experience = df_tr.experience.fillna('0')\n",
        "df_tr.experience = df_tr.experience.apply(lambda row: np.log1p(int(row.split()[0]))) # преобразуем experience в int для удобства и прологарифмируем, чтобы нормализовать распределние\n",
        "# Уберем выбросы, оставив .975 перцентиль в данных\n",
        "df_tr = df_tr[df_tr.experience <= df_tr.experience.quantile(0.975)]\n",
        "df_tr.hist('experience')\n",
        "\n",
        "# не забываем про тест\n",
        "df_test.experience = df_test.experience.fillna('0')\n",
        "df_test.experience = df_test.experience.apply(lambda row: np.log1p(int(row.split()[0])))"
      ]
    },
    {
      "cell_type": "code",
      "execution_count": 9,
      "metadata": {
        "colab": {
          "base_uri": "https://localhost:8080/",
          "height": 452
        },
        "id": "BJSKGSKRgcBJ",
        "outputId": "1d926a36-0dc8-4a81-e2a8-313bcf553fd0"
      },
      "outputs": [
        {
          "data": {
            "image/png": "[encoded data removed]",
            "text/plain": [
              "<Figure size 640x480 with 1 Axes>"
            ]
          },
          "metadata": {},
          "output_type": "display_data"
        }
      ],
      "source": [
        "# Разберемся с таргетом\n",
        "df_tr.hist(\"mean_price\") # видим, что на графике есть выбросы, удалим слишком маленькие и слишком большие значения\n",
        "df_tr = df_tr.loc[(df_tr['mean_price'] <= df_tr.mean_price.quantile(0.975)) & (df_tr['mean_price'] >= df_tr.mean_price.quantile(0.025))]\n",
        "# из соображений логики, возможно данных нет тк оценок  нет и можно заполнить 0, но пока так"
      ]
    },
    {
      "cell_type": "code",
      "execution_count": 10,
      "metadata": {
        "colab": {
          "base_uri": "https://localhost:8080/",
          "height": 469
        },
        "id": "G8yNQ7oKZBUQ",
        "outputId": "dc2d50f0-dbd1-4d4d-b42e-14162673b94d"
      },
      "outputs": [
        {
          "data": {
            "text/plain": [
              "array([[<Axes: title={'center': 'mean_price'}>]], dtype=object)"
            ]
          },
          "execution_count": 10,
          "metadata": {},
          "output_type": "execute_result"
        },
        {
          "data": {
            "image/png": "[encoded data removed]",
            "text/plain": [
              "<Figure size 640x480 with 1 Axes>"
            ]
          },
          "metadata": {},
          "output_type": "display_data"
        }
      ],
      "source": [
        "df_tr.hist(\"mean_price\")"
      ]
    },
    {
      "cell_type": "code",
      "execution_count": 11,
      "metadata": {
        "id": "TJy8nxSxZKvC"
      },
      "outputs": [],
      "source": [
        "# Объединим текстовые колнки  посчитать по ним bag of words\n",
        "text_cols = ['description', 'Education_1', 'Desc_Education_1', 'Education_2', 'Desc_Education_2', 'status', 'experience_desc']\n",
        "df_tr[text_cols] = df_tr[text_cols].fillna('не заполнено')\n",
        "df_test[text_cols] = df_test[text_cols].fillna('не заполнено')\n",
        "for tc in text_cols:\n",
        "    df_tr['description'] += ' ' + df_tr[tc]\n",
        "    df_test['description'] += ' ' + df_test[tc]"
      ]
    },
    {
      "cell_type": "code",
      "execution_count": 12,
      "metadata": {
        "id": "UekYYMw9gcBD"
      },
      "outputs": [],
      "source": [
        "# удалим шумные стобцы, то есть те, в которых заполнено меньше 10%\n",
        "excess_columns = df_tr.loc[:, df_tr.isna().mean() > 0.9].columns\n",
        "df_tr.drop(columns=excess_columns, inplace=True)\n",
        "df_test.drop(columns=excess_columns, inplace=True)"
      ]
    },
    {
      "cell_type": "code",
      "execution_count": 13,
      "metadata": {
        "colab": {
          "base_uri": "https://localhost:8080/"
        },
        "id": "guYDxCGvacfP",
        "outputId": "282ac1fb-dc26-402e-d420-e3096c56b7da"
      },
      "outputs": [
        {
          "data": {
            "text/plain": [
              "предмет             0\n",
              "ФИО                 0\n",
              "tutor_head_tags     0\n",
              "tutor_rating        0\n",
              "tutor_reviews       0\n",
              "description         0\n",
              "experience_desc     0\n",
              "Education_1         0\n",
              "Desc_Education_1    0\n",
              "Education_2         0\n",
              "Desc_Education_2    0\n",
              "status              0\n",
              "experience          0\n",
              "categories          0\n",
              "mean_price          0\n",
              "dtype: int64"
            ]
          },
          "execution_count": 13,
          "metadata": {},
          "output_type": "execute_result"
        }
      ],
      "source": [
        "df_tr.isna().sum()"
      ]
    },
    {
      "cell_type": "code",
      "execution_count": 14,
      "metadata": {
        "id": "mPNBGdpQkhHt"
      },
      "outputs": [],
      "source": [
        "# Данные чисты, можем приступать к следующему этапу - обработаем текст с помощью Bag of Words и метода главных компонент"
      ]
    },
    {
      "cell_type": "code",
      "execution_count": 15,
      "metadata": {
        "id": "2ZU78VB-cgnc"
      },
      "outputs": [],
      "source": [
        "bow = CountVectorizer()\n",
        "pca = PCA(n_components=32)\n",
        "vectors = bow.fit_transform(df_tr['description'])\n",
        "pca_embs = pca.fit_transform(vectors.toarray())\n",
        "df_tr[[f'pca_{i}' for i in range(pca_embs.shape[1])]] = pca_embs\n",
        "\n",
        "vectors = bow.transform(df_test['description'])\n",
        "pca_embs = pca.transform(vectors.toarray())\n",
        "df_test[[f'pca_{i}' for i in range(pca_embs.shape[1])]] = pca_embs"
      ]
    },
    {
      "cell_type": "code",
      "execution_count": 16,
      "metadata": {
        "id": "6FZDhxW1gcBR"
      },
      "outputs": [],
      "source": [
        "numerics = ['int16', 'int32', 'int64', 'float16', 'float32', 'float64']\n",
        "numeric_columns = df_tr.select_dtypes(include=numerics).columns\n",
        "cat_features = df_tr.select_dtypes(include='object').columns"
      ]
    },
    {
      "cell_type": "markdown",
      "metadata": {
        "id": "VFft-gaLgcBS"
      },
      "source": [
        "# Проверка статистических гипотез"
      ]
    },
    {
      "cell_type": "code",
      "execution_count": 17,
      "metadata": {
        "id": "vnWTZoOtgcBT"
      },
      "outputs": [],
      "source": [
        "# Гиптотеза 1:\n",
        "# Нулевая гипотеза: mean_price распределен нормально, конкурирущая гипотеза - mean_price распределен нормально, alpha=0.01"
      ]
    },
    {
      "cell_type": "code",
      "execution_count": 18,
      "metadata": {
        "colab": {
          "base_uri": "https://localhost:8080/"
        },
        "id": "rKkb-lppgcBT",
        "outputId": "bda9dbec-4427-4355-f564-eed29448adf2"
      },
      "outputs": [
        {
          "data": {
            "text/plain": [
              "ShapiroResult(statistic=0.968644917011261, pvalue=1.7664256300993002e-29)"
            ]
          },
          "execution_count": 18,
          "metadata": {},
          "output_type": "execute_result"
        }
      ],
      "source": [
        "shapiro(df_tr['mean_price'])"
      ]
    },
    {
      "cell_type": "code",
      "execution_count": 19,
      "metadata": {
        "id": "74l4moEtgcBT"
      },
      "outputs": [],
      "source": [
        "# p_value < alpha, поэтому нулевая гипотеза неверна"
      ]
    },
    {
      "cell_type": "code",
      "execution_count": 20,
      "metadata": {
        "id": "q8I0pUZegcBT"
      },
      "outputs": [],
      "source": [
        "# Гиптотеза 2:\n",
        "# Существует линейная зависимость между mean_price и experience"
      ]
    },
    {
      "cell_type": "code",
      "execution_count": 21,
      "metadata": {
        "colab": {
          "base_uri": "https://localhost:8080/"
        },
        "id": "IYR9fKjngcBU",
        "outputId": "a1ab0fe8-afce-44b6-e219-70935bccbb7d"
      },
      "outputs": [
        {
          "data": {
            "text/plain": [
              "0.15069302915826366"
            ]
          },
          "execution_count": 21,
          "metadata": {},
          "output_type": "execute_result"
        }
      ],
      "source": [
        "df_tr['mean_price'].corr(df_tr['experience'])"
      ]
    },
    {
      "cell_type": "code",
      "execution_count": 22,
      "metadata": {
        "id": "I98je7LFgcBU"
      },
      "outputs": [],
      "source": [
        "# Видим, что корреляция есть, но довольно низкая, поэтому гипотеза неверна"
      ]
    },
    {
      "cell_type": "code",
      "execution_count": 23,
      "metadata": {
        "id": "jVC2as9igcBU"
      },
      "outputs": [],
      "source": [
        "# Гиптотеза 3:\n",
        "# Существует линейная зависимость между mean_price и tutor_rating"
      ]
    },
    {
      "cell_type": "code",
      "execution_count": 24,
      "metadata": {
        "colab": {
          "base_uri": "https://localhost:8080/"
        },
        "id": "UTubl8Z5gcBV",
        "outputId": "125e427a-3021-4ce9-b453-ee58701791ea"
      },
      "outputs": [
        {
          "data": {
            "text/plain": [
              "0.13494155737037622"
            ]
          },
          "execution_count": 24,
          "metadata": {},
          "output_type": "execute_result"
        }
      ],
      "source": [
        "df_tr['mean_price'].corr(df_tr['tutor_rating'])"
      ]
    },
    {
      "cell_type": "code",
      "execution_count": 25,
      "metadata": {
        "id": "7ornqarXgcBV"
      },
      "outputs": [],
      "source": [
        "# Видим, что корреляция есть, но довольно низкая, поэтому гипотеза неверна"
      ]
    },
    {
      "cell_type": "code",
      "execution_count": 26,
      "metadata": {
        "id": "n2gJjEo-gcBV"
      },
      "outputs": [],
      "source": [
        "# Гиптотеза 4:\n",
        "# Нулевая гипотеза: pca_3 распределен нормально, конкурирущая гипотеза - pca_3 распределен нормально, alpha=0.01"
      ]
    },
    {
      "cell_type": "code",
      "execution_count": 27,
      "metadata": {
        "colab": {
          "base_uri": "https://localhost:8080/"
        },
        "id": "sqwMesIxgcBV",
        "outputId": "dea111d3-459c-4bf8-a1af-13df86eb299c"
      },
      "outputs": [
        {
          "data": {
            "text/plain": [
              "ShapiroResult(statistic=0.8786658048629761, pvalue=0.0)"
            ]
          },
          "execution_count": 27,
          "metadata": {},
          "output_type": "execute_result"
        }
      ],
      "source": [
        "shapiro(df_tr['pca_3'])"
      ]
    },
    {
      "cell_type": "code",
      "execution_count": 28,
      "metadata": {
        "id": "zwNtBLE7gcBW"
      },
      "outputs": [],
      "source": [
        "# p_value < alpha, поэтому нулевая гипотеза неверна"
      ]
    },
    {
      "cell_type": "code",
      "execution_count": 29,
      "metadata": {
        "colab": {
          "base_uri": "https://localhost:8080/",
          "height": 469
        },
        "id": "DBIDXREipCU_",
        "outputId": "996c679a-729f-49d4-e46e-09e625f8da57"
      },
      "outputs": [
        {
          "data": {
            "text/plain": [
              "array([[<Axes: title={'center': 'pca_3'}>]], dtype=object)"
            ]
          },
          "execution_count": 29,
          "metadata": {},
          "output_type": "execute_result"
        },
        {
          "data": {
            "image/png": "[encoded data removed]",
            "text/plain": [
              "<Figure size 640x480 with 1 Axes>"
            ]
          },
          "metadata": {},
          "output_type": "display_data"
        }
      ],
      "source": [
        "df_tr.hist(['pca_3'])"
      ]
    },
    {
      "cell_type": "code",
      "execution_count": 30,
      "metadata": {
        "id": "c-xflfo7dv7n"
      },
      "outputs": [],
      "source": [
        "# сохраним df_tr и df_test для тренировке моделей\n",
        "\n",
        "df_tr.to_csv(\"final_train.csv\", index=None)\n",
        "df_test.to_csv(\"final_test.csv\", index=None)"
      ]
    }
  ],
  "metadata": {
    "colab": {
      "provenance": []
    },
    "kernelspec": {
      "display_name": "Python 3",
      "language": "python",
      "name": "python3"
    },
    "language_info": {
      "codemirror_mode": {
        "name": "ipython",
        "version": 3
      },
      "file_extension": ".py",
      "mimetype": "text/x-python",
      "name": "python",
      "nbconvert_exporter": "python",
      "pygments_lexer": "ipython3",
      "version": "3.9.6"
    },
    "orig_nbformat": 4,
    "vscode": {
      "interpreter": {
        "hash": "31f2aee4e71d21fbe5cf8b01ff0e069b9275f58929596ceb00d14d90e3e16cd6"
      }
    }
  },
  "nbformat": 4,
  "nbformat_minor": 0
}
